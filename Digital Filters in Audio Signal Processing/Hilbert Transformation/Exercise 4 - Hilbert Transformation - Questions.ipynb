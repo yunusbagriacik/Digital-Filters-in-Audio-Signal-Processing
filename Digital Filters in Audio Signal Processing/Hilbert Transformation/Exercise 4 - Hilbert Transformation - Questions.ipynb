{
 "cells": [
  {
   "cell_type": "markdown",
   "metadata": {},
   "source": [
    "# Exercise 4 - Hilbert Transformation - Questions"
   ]
  },
  {
   "cell_type": "markdown",
   "metadata": {},
   "source": [
    "<a id='task_Design_Non_Recursive_Filters'></a>\n",
    "<div class=\"alert alert-block alert-success\">\n",
    "<strong>Intended Learning Objectives (ILOs)</strong><br>\n",
    "    \n",
    "After completing this Jupyter Notebook you should be able to:\n",
    "    \n",
    "<ul>\n",
    "<li>gain a better understanding of what the differentiator is used for  \n",
    "</li>\n",
    "    <br>\n",
    "    \n",
    "<li>visualise absolute values of differentiator transfer function and impulse response.\n",
    "</li>\n",
    "    <br>\n",
    "    \n",
    "<li>identify which differentiator refers to which of the four classes of FIR filters\n",
    "</li>\n",
    "    <br>\n",
    "    \n",
    "<li>demonstrate the effects of the filter order looking at both transfer function and impulse response.\n",
    "</li>\n",
    "        <br>\n",
    " <li>understand basic use of functions from the <code>Python</code> libraries\n",
    "<ul>\n",
    "<li><a href=\"https://matplotlib.org/\"><code>Matplotlib</code></a> for graphical output (like\n",
    "<a href=\"https://matplotlib.org/3.1.1/api/_as_gen/matplotlib.pyplot.title.html\"><code>title()</code></a>,\n",
    "<a href=\"https://matplotlib.org/stable/api/_as_gen/matplotlib.pyplot.xlabel.html\"><code>xlabel()</code></a>,\n",
    "<a href=\"https://matplotlib.org/stable/api/_as_gen/matplotlib.pyplot.ylabel.html\"><code>ylabel()</code></a>,\n",
    "etc.)\n",
    "</li>\n",
    "<li><a href=\"https://numpy.org/\"><code>Numpy</code></a> for mathematical functions and calculations like\n",
    "<a href=\"https://numpy.org/doc/stable/reference/generated/numpy.log10.html\"><code>array()</code></a>,\n",
    "<a href=\"https://numpy.org/doc/stable/reference/generated/numpy.linspace.html\"><code>real()</code></a>,\n",
    "<a href=\"https://numpy.org/doc/stable/reference/generated/numpy.absolute.html\"><code>imag()</code></a>, etc.\n",
    "</li>\n",
    "<li>Mostly used library for signal processing\n",
    "<a href=\"https://docs.scipy.org/doc/scipy/reference/signal.html\"><code>SciPy</code></a>\n",
    "</li>\n",
    "</ul>\n",
    "</li>\n",
    "\n",
    "</ul>\n",
    "</div>"
   ]
  },
  {
   "cell_type": "markdown",
   "metadata": {},
   "source": [
    "In this notebook, you are expected to design Hilbert transformer with an ideal frequency response which is defined as:\n",
    "<br>\n",
    "\n",
    "\\begin{equation} \\tag{4.1}\n",
    "H \\left(e^{j\\Omega} \\right) = j sgn \\left(\\Omega \\right)\n",
    "\\end{equation}\n",
    "<br>\n",
    "\n",
    "\n",
    "\n",
    "In this notebook, you're given three tasks and each of them has subtasks.  \n",
    "\n",
    "In Task 1, you'll observe amplitude and impulse response graph of the resulting Hilbert transformation. <code>remez()</code> function can be used with a parameter <code> type = 'hilbert'</code>. For order $m = 30$, band edge set to array $[0.025, 0.475]$ and desired gain array $[1.0]$. For order $m = 31$, band edge set to array $[0.025, 0.5]$ and desired gain array $[1.0]$.  At first, the needed libraries are imported"
   ]
  },
  {
   "cell_type": "code",
   "execution_count": 16,
   "metadata": {},
   "outputs": [],
   "source": [
    "#LIBRARIES\n",
    "\n",
    "import scipy.signal as sig           #signal processing library\n",
    "import numpy as np                   #numpy library for math\n",
    "import matplotlib.pyplot as plt      #plotting "
   ]
  },
  {
   "cell_type": "markdown",
   "metadata": {},
   "source": [
    "<div class=\"alert alert-block alert-info\">\n",
    "    <strong><h3>Task 1: Design of a Hilbert Transformation</h3></strong><br>\n",
    "   <br>\n",
    "<ul>\n",
    "    <li>\n",
    "    a) Plot the two Hilbert transformers' amplitude response and impulse response of order $m = 30$ and $m = 31$. You can make use of <code>remez()</code> function in SciPy. Identify which transformator refers to which class of Linear Phase FIR filters. \n",
    "       <br>\n",
    "       <br>\n",
    "    <strong>HINT:</strong>  If you use remez() function, the parameter must be <code>'type = hilbert'</code>  \n",
    "    </li>\n",
    "\n",
    "</ul>\n",
    "</div>"
   ]
  },
  {
   "cell_type": "code",
   "execution_count": 17,
   "metadata": {},
   "outputs": [
    {
     "data": {
      "text/plain": [
       "\"\\n... = sig.remez(Lw+1, ....,   ....,  type = 'hilbert')    #Lw+1 = 32 means that filter order m = 31\\n\\n\""
      ]
     },
     "execution_count": 17,
     "metadata": {},
     "output_type": "execute_result"
    }
   ],
   "source": [
    "#INITIALISATON\n",
    "\n",
    "order = 30                     #filter order m\n",
    "Lw = order + 1                 #(m+1)th order for filter functions\n",
    "f1 = np.array([0.025 , 0.475]) #band edges array\n",
    "m1 = np.array([1])             #desired gain \n",
    "f2 = np.array([0.025 , 0.5])   #band edges array\n",
    "m2 = np.array([1])             #desired gain\n",
    "\n",
    "#For order m = 30\n",
    "\n",
    "'''\n",
    "\n",
    "... = sig.remez(Lw, ....,   ...., type = 'hilbert')        #Lw = 31 means that filter order m = 30\n",
    "\n",
    "\n",
    "''' \n",
    "\n",
    "#For order m = 31\n",
    "\n",
    "'''\n",
    "... = sig.remez(Lw+1, ....,   ....,  type = 'hilbert')    #Lw+1 = 32 means that filter order m = 31\n",
    "\n",
    "'''\n"
   ]
  },
  {
   "cell_type": "markdown",
   "metadata": {},
   "source": [
    "You show the impulse response and amplitude repsonse of the Hilbert transformers, and determine which Linear Phase FIR Filter it belongs to. Explain the graphs shortly. If you want to refresh your knowledge about Linear Phase FIR Filter, you can refer to the Linear Phase section in the <strong>Exercise 3 - Differentiator Filter - Answers</strong>. "
   ]
  },
  {
   "cell_type": "markdown",
   "metadata": {},
   "source": [
    "<div class=\"alert alert-block alert-info\">\n",
    "    <strong><h3>Task 2: Pole-Zero plane and Group delay</h3></strong><br>\n",
    "   <br>\n",
    "<ul>\n",
    "    <li>\n",
    "    a) Plot the pole-zero plane for hilbert transformer of order $m = 30$ asked in the Task 1.a and comment the result.\n",
    "    </li>\n",
    "    <br>\n",
    "     <li>\n",
    "    b) Calculate the group delay of order $m = 30$ and plot it. \n",
    "    </li>\n",
    "\n",
    "</ul>\n",
    "</div>"
   ]
  },
  {
   "cell_type": "markdown",
   "metadata": {},
   "source": [
    "<strong> a) </strong> In this task, you're expected to show zero-pole plane and group delay for order $m = 30$. Bands edge must be set $[0.025, 0.475]$ and desired gain array $[1.0]$. In order to show zero-pole plane, you can use the function <code>tf2zpk()</code> from SciPy documentation. It returns zeros and poles of the transfer function in an n-dimensional array (ndarray) and system gain k. Parameters are numerator b and denominator b which is defined in the function <code>tf2zpk(b, a)</code> \n",
    "\n",
    "You can also use <code>remez()</code> function"
   ]
  },
  {
   "cell_type": "code",
   "execution_count": 18,
   "metadata": {},
   "outputs": [
    {
     "data": {
      "text/plain": [
       "\"\\n\\n... = sig.remez(Lw, ....,   ...., type = 'hilbert')     #Lw = 31 means that filter order m = 30\\nz, p, k = sig.tf2zpk(..., ...)                          #transfer function to zero pole plane\\n\\n\\n\""
      ]
     },
     "execution_count": 18,
     "metadata": {},
     "output_type": "execute_result"
    }
   ],
   "source": [
    "# ZERO-POLE PLANE \n",
    "\n",
    "#For order m = 30\n",
    "\n",
    "'''\n",
    "\n",
    "... = sig.remez(Lw, ....,   ...., type = 'hilbert')     #Lw = 31 means that filter order m = 30\n",
    "z, p, k = sig.tf2zpk(..., ...)                          #transfer function to zero pole plane\n",
    "\n",
    "\n",
    "''' \n"
   ]
  },
  {
   "cell_type": "markdown",
   "metadata": {},
   "source": [
    "<strong> b) </strong>  In order to show group delay of the system, the function <code>sig.group_delay()</code> can be used. Make an inference about the filter order $m$ and group delay $\\tau_g(\\Omega)$  of the system. "
   ]
  },
  {
   "cell_type": "code",
   "execution_count": 19,
   "metadata": {},
   "outputs": [
    {
     "data": {
      "text/plain": [
       "'\\n.., ... = sig.group_delay((..., ...))   #Calculate the group delay of order m = 30\\nplt.plot(.., .., ..)                    #Plot the delay\\n\\n'"
      ]
     },
     "execution_count": 19,
     "metadata": {},
     "output_type": "execute_result"
    }
   ],
   "source": [
    "#GROUP DELAY\n",
    "\n",
    "'''\n",
    ".., ... = sig.group_delay((..., ...))   #Calculate the group delay of order m = 30\n",
    "plt.plot(.., .., ..)                    #Plot the delay\n",
    "\n",
    "'''"
   ]
  },
  {
   "cell_type": "markdown",
   "metadata": {},
   "source": [
    "<div class=\"alert alert-block alert-info\">\n",
    "    <strong><h3>Task 3: Input and Output signals </h3></strong><br>\n",
    "   <br>\n",
    "<ul>\n",
    "    <li>\n",
    "    a) Create a signal that has:\n",
    "        <ul>\n",
    "            <li>frequency of $50$ $Hz$</li>\n",
    "            <li>duration of two seconds</li>\n",
    "            <li>sampling frequency $f_s = 1000.0$</li>\n",
    "        </ul>\n",
    "        <br>\n",
    "        Then, use Hilbert transformer of order $m = 30$ to filter this signal. Plot input and output signals. <strong>HINT:</strong> You should take group delay into consideration plotting the signals since output signal is delayed.  \n",
    "    </li>\n",
    "    <br>\n",
    "     <li>\n",
    "    b)  Plot the time-domain of original signal and the hilbert transformation signal. <strong>HINT:</strong> You can use <code>hilbert()</code> function in SciPy.\n",
    "    </li>\n",
    "\n",
    "</ul>\n",
    "</div>"
   ]
  },
  {
   "cell_type": "markdown",
   "metadata": {},
   "source": [
    "<strong> a) </strong> You'll create the signal with the parameters described above. Additionally, you need to use the function <code>sig.lfilter(b, a, x)</code> for filtering. $b$ is numerator coefficient vector while $a$ is denominator coefficient vector of the z-transform domain. $x$ is input array\n",
    "\n",
    "In this task, you need to take group delay into account. You can use the function <code>np.concatenate()</code> to delay samples "
   ]
  },
  {
   "cell_type": "code",
   "execution_count": 20,
   "metadata": {},
   "outputs": [
    {
     "data": {
      "text/plain": [
       "\"\\n\\nb3 =  sig.remez(Lw, bands = f1, desired = m1, type = 'hilbert')\\nduration = 2.0                              #2 seconds\\nfs = 1000.0                                 #sampling frequency\\nt = np.arange(0, ..., ...)  \\nx = np.sin(.. * ..* .. * t )                #creating of the sinusoidal signal\\nxh = sig.lfilter(...,   ...,    ...)        #filtering the signal \\nh = np.zeros(...,   ...)                    #form zeros (take group delay into account)\\nxd = np.concatenate(...,    ...)            #delay 15 samples  => adding zeros at the beginning of the signal x \\n\\nplt.plot(..., ..., ..., ...)\\nplt.plot(...,  ..., ..., ...)\\n\\nplt.grid()\\nplt.legend()\\n\\n\""
      ]
     },
     "execution_count": 20,
     "metadata": {},
     "output_type": "execute_result"
    }
   ],
   "source": [
    "#TASK 3.a \n",
    "#Design of the signals\n",
    "\n",
    "'''\n",
    "\n",
    "b3 =  sig.remez(Lw, bands = f1, desired = m1, type = 'hilbert')\n",
    "duration = 2.0                              #2 seconds\n",
    "fs = 1000.0                                 #sampling frequency\n",
    "t = np.arange(0, ..., ...)  \n",
    "x = np.sin(.. * ..* .. * t )                #creating of the sinusoidal signal\n",
    "xh = sig.lfilter(...,   ...,    ...)        #filtering the signal \n",
    "h = np.zeros(...,   ...)                    #form zeros (take group delay into account)\n",
    "xd = np.concatenate(...,    ...)            #delay 15 samples  => adding zeros at the beginning of the signal x \n",
    "\n",
    "plt.plot(..., ..., ..., ...)\n",
    "plt.plot(...,  ..., ..., ...)\n",
    "\n",
    "plt.grid()\n",
    "plt.legend()\n",
    "\n",
    "'''\n"
   ]
  },
  {
   "cell_type": "markdown",
   "metadata": {},
   "source": [
    "<strong> b) </strong> In this task, you'll observe the original signal and transformed signal in the same graph. You can use\n",
    " <code>sig.hilbert()</code> function to compute the analytic signal. "
   ]
  },
  {
   "cell_type": "code",
   "execution_count": 21,
   "metadata": {},
   "outputs": [
    {
     "data": {
      "text/plain": [
       "'\\ny = sig.hilbert(x)                            #Compute the analytic signal, using the Hilbert transform.\\nplt.plot(..., ..., ..., ...)                  #real part of y is equal to x\\nplt.plot(...,  ..., ..., ...)                 #imaginary part of y is hilbert transform of x\\n\\nplt.grid()\\nplt.legend()\\n\\n'"
      ]
     },
     "execution_count": 21,
     "metadata": {},
     "output_type": "execute_result"
    }
   ],
   "source": [
    "#TASK 3.b\n",
    "\n",
    "'''\n",
    "y = sig.hilbert(x)                            #Compute the analytic signal, using the Hilbert transform.\n",
    "plt.plot(..., ..., ..., ...)                  #real part of y is equal to x\n",
    "plt.plot(...,  ..., ..., ...)                 #imaginary part of y is hilbert transform of x\n",
    "\n",
    "plt.grid()\n",
    "plt.legend()\n",
    "\n",
    "'''\n"
   ]
  },
  {
   "cell_type": "markdown",
   "metadata": {},
   "source": []
  },
  {
   "cell_type": "code",
   "execution_count": null,
   "metadata": {},
   "outputs": [],
   "source": []
  }
 ],
 "metadata": {
  "kernelspec": {
   "display_name": "Python 3",
   "language": "python",
   "name": "python3"
  },
  "language_info": {
   "codemirror_mode": {
    "name": "ipython",
    "version": 3
   },
   "file_extension": ".py",
   "mimetype": "text/x-python",
   "name": "python",
   "nbconvert_exporter": "python",
   "pygments_lexer": "ipython3",
   "version": "3.8.3"
  }
 },
 "nbformat": 4,
 "nbformat_minor": 4
}
