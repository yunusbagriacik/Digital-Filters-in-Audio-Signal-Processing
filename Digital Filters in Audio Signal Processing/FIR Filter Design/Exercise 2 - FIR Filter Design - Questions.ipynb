{
 "cells": [
  {
   "cell_type": "markdown",
   "metadata": {},
   "source": [
    "# Exercise 2 - FIR Filter Design - Questions"
   ]
  },
  {
   "cell_type": "markdown",
   "metadata": {},
   "source": [
    "<a id='task_Design_Non_Recursive_Filters'></a>\n",
    "<div class=\"alert alert-block alert-success\">\n",
    "<strong>Intended Learning Objectives (ILOs)</strong><br>\n",
    "    \n",
    "After completing this Jupyter Notebook you should be able to:\n",
    "    \n",
    "<ul>\n",
    "<li>identify filters when given the same parameters with several windowing techniques  \n",
    "</li>\n",
    "    <br>\n",
    "    \n",
    "<li>visualise low/high pass filters using windowing techniques and group delay.\n",
    "</li>\n",
    "    <br>\n",
    "    \n",
    "<li>gain a better understanding of Finite Impulse Response System.\n",
    "</li>\n",
    "    <br>\n",
    "    \n",
    "<li>demonstrate the effects of different windowing techniques.\n",
    "</li>\n",
    "    <br>\n",
    "    <li>understand basic use of functions from the <code>Python</code> libraries\n",
    "<ul>\n",
    "<li><a href=\"https://matplotlib.org/\"><code>Matplotlib</code></a> for graphical output (like\n",
    "<a href=\"https://matplotlib.org/3.1.1/api/_as_gen/matplotlib.pyplot.title.html\"><code>title()</code></a>,\n",
    "<a href=\"https://matplotlib.org/stable/api/_as_gen/matplotlib.pyplot.xlabel.html\"><code>xlabel()</code></a>,\n",
    "<a href=\"https://matplotlib.org/stable/api/_as_gen/matplotlib.pyplot.ylabel.html\"><code>ylabel()</code></a>,\n",
    "etc.)\n",
    "</li>\n",
    "<li><a href=\"https://numpy.org/\"><code>Numpy</code></a> for mathematical functions and calculations like\n",
    "<a href=\"https://numpy.org/doc/stable/reference/generated/numpy.log10.html\"><code>log10()</code></a>,\n",
    "<a href=\"https://numpy.org/doc/stable/reference/constants.html\"><code>pi()</code></a>,\n",
    "<a href=\"https://numpy.org/doc/stable/reference/generated/numpy.absolute.html\"><code>abs()</code></a>, etc.\n",
    "</li>\n",
    "<li>Mostly used library for signal processing\n",
    "<a href=\"https://docs.scipy.org/doc/scipy/reference/signal.html\"><code>SciPy</code></a>\n",
    "</li>\n",
    "</ul>\n",
    "</li>  \n",
    "\n",
    "</ul>\n",
    "</div>"
   ]
  },
  {
   "cell_type": "markdown",
   "metadata": {},
   "source": [
    "<body>\n",
    " <p>Linear filters are subdivided by two components: Non-recursive filters and Recursive filters. In this exercise, we will focus on designing of <b>non-recursive filters</b> using some windowing techniques.</p> \n",
    "<p>Non-recursive filters have finite impulse responses. The complete filter design by windowing an impulse response of a time shifted, ideal low/high pass filter is implemented in Python function <code><u>firwin()</u></code>.</p>\n",
    "<p>The function <code>b = firwin(order, cutoff, pass_zero=false)</code> yields the corresponding high pass with a cut-off frequency $W_n$. <br>Also, <code>b = firwin(order, cutoff)</code> generates $m + 1$ filter coefficients of a low-pass with order $m$ and cut-off frequency $W_n$.</p>\n",
    "</body>"
   ]
  },
  {
   "cell_type": "code",
   "execution_count": 1,
   "metadata": {},
   "outputs": [],
   "source": [
    "#necessary libraries are added\n",
    "import scipy.signal as sig        #signal processing library\n",
    "import numpy as np                   #math library\n",
    "import matplotlib.pyplot as plt      #plotting"
   ]
  },
  {
   "cell_type": "markdown",
   "metadata": {},
   "source": [
    "<a id=\"task_function_generator_sine\"></a>\n",
    "<div class=\"alert alert-block alert-info\">\n",
    "    <strong><h3>Task 1: Design a low-pass filter based on different windows</h3></strong><br>\n",
    "    Design low pass filter by setting $m=50$ and $W_n=0.4$. Compare the absolute value of the spectrum for different window functions below. Show each FIR filter's impulse responses respectively. \n",
    "    <br>\n",
    "<ul>\n",
    "<li>\n",
    "  a) Plot <code>boxcar</code>,<code>hann</code> and <code>hamming</code> windows respectively and show FIR filters of the windows in the same graph. \n",
    "</li>\n",
    "    <br>\n",
    "    \n",
    "<li>\n",
    "   b) Plot <code>blackman</code> and <code>kaiser</code> windows in the same graph. Note: In kaiser windowing, put parameter $\\beta = 8$.\n",
    "</li>\n",
    "    \n",
    "\n",
    "</ul>\n",
    "</div>\n"
   ]
  },
  {
   "cell_type": "markdown",
   "metadata": {},
   "source": [
    "Filter coefficients of a Low-pass filter with $m$ = <i>order</i> and $W_n$ = <i>cutoff</i>. \n",
    "<code>firwin()</code> function is used for finite impulse responses.\n"
   ]
  },
  {
   "cell_type": "code",
   "execution_count": 2,
   "metadata": {},
   "outputs": [],
   "source": [
    "#INITIALISATION\n",
    "\n",
    "'''\n",
    "order = 50                                   #filter order m\n",
    "Wn = 0.4                                     #cutoff frequency\n",
    "window = sig.windows.' '                     #get window\n",
    "bR = sig.firwin(order, Wn, window=' ')       #FIR filter design using window. For example rectangular\n",
    "\n",
    "'''\n",
    "\n",
    "\n",
    "#Plotting time domain graph of the window\n",
    "\n",
    "'''\n",
    "plt.subplot(1,2,1)                           #1st plot of the 2 plots. (It's gonna be visualised on the left)\n",
    "plt.stem(window, use_line_collection=True)   #plot the window with stem lines\n",
    "\n",
    "'''\n",
    "\n",
    "#Plotting FIR Low Pass using the window\n",
    "\n",
    "'''\n",
    "plt.subplot(1,2,2)                           #2nd plot of the 2 plots. (It's gonna be visualised on the right)\n",
    "plt.plot(..., ...,'g')                       #plotting of the FIR Low Pass using frequency response\n",
    "\n",
    "'''\n"
   ]
  },
  {
   "cell_type": "code",
   "execution_count": null,
   "metadata": {},
   "outputs": [],
   "source": [
    "#IMPULSE RESPONSE\n",
    "\n",
    "'''\n",
    "\n",
    "plt.figure(figsize=(16,4))                   #set the size of the figure\n",
    "plt.stem(...,  use_line_collection=True)     #plot impulse response with stem lines\n",
    "\n",
    "\n",
    "'''"
   ]
  },
  {
   "cell_type": "markdown",
   "metadata": {},
   "source": [
    "<a id='task_function_generator_sine'></a>\n",
    "<div class=\"alert alert-block alert-info\">\n",
    "    <strong><h3>Task 2: Design a high pass filter</h3></strong><br>\n",
    "<ul>\n",
    "<li>\n",
    "   a) Design a high-pass filter of order $m=33$ and cut-off frequency $Wn=0.4$ using the Python function <code>firwin()</code> using Hamming window and plot. Show high pass FIR filter's impulse response.\n",
    "</li>\n",
    "\n",
    "</ul>\n",
    "</div>\n"
   ]
  },
  {
   "cell_type": "code",
   "execution_count": 3,
   "metadata": {},
   "outputs": [],
   "source": [
    "#INITIALISATION\n",
    "\n",
    "'''\n",
    "order = 33                                                #coefficient m (filter order)\n",
    "Wn = 0.4                                                  #cutoff frequency\n",
    "b = sig.firwin(order, Wn, window='hamming', pass_zero='') #FIR filter design using hamming window \n",
    "# ...\n",
    "\n",
    "'''\n",
    "\n",
    "#Plotting FIR High Pass using the window\n",
    "\n",
    "'''\n",
    "\n",
    "w, h = sig.freqz(..., ..., ...)          #computing frequency response of the filter\n",
    "plt.plot(..., ...)                       #hamming\n",
    "# ...\n",
    "\n",
    "'''\n"
   ]
  },
  {
   "cell_type": "code",
   "execution_count": null,
   "metadata": {},
   "outputs": [],
   "source": [
    "#IMPULSE RESPONSE\n",
    "\n",
    "'''\n",
    "\n",
    "plt.figure(figsize=(16,4))                #set the size of the figure\n",
    "plt.stem(...,  use_line_collection=True)  #plotting impulse response with stem lines\n",
    "\n",
    "\n",
    "'''"
   ]
  },
  {
   "cell_type": "markdown",
   "metadata": {},
   "source": [
    "<a id='task_function_generator_sine'></a>\n",
    "<div class=\"alert alert-block alert-info\">\n",
    "    <strong><h3>Task 3: Determine group delay</h3></strong><br>\n",
    "<ul>\n",
    "<li>\n",
    "  a) Group delay and linearity of a system are closely connected. Calculate and plot the group delay of the low-pass filter of Task 1 ( Hamming-Window ). Use the function <code>group_delay()</code>\n",
    "</li>\n",
    "\n",
    "</ul>\n",
    "</div>\n"
   ]
  },
  {
   "cell_type": "code",
   "execution_count": 4,
   "metadata": {},
   "outputs": [],
   "source": [
    "#GROUP DELAY\n",
    "\n",
    "\n",
    "'''\n",
    "x = sig.firwin(order, 0.4,  window='hamming')   #FIR filter design using hamming window \n",
    "..., ... = sig.group_delay(..., ...)            #compute the group delay of the filter\n",
    "\n",
    "'''\n"
   ]
  }
 ],
 "metadata": {
  "kernelspec": {
   "display_name": "Python 3",
   "language": "python",
   "name": "python3"
  },
  "language_info": {
   "codemirror_mode": {
    "name": "ipython",
    "version": 3
   },
   "file_extension": ".py",
   "mimetype": "text/x-python",
   "name": "python",
   "nbconvert_exporter": "python",
   "pygments_lexer": "ipython3",
   "version": "3.8.3"
  }
 },
 "nbformat": 4,
 "nbformat_minor": 4
}
