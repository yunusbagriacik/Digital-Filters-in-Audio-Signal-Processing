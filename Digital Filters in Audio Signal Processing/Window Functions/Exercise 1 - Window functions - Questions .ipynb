{
 "cells": [
  {
   "cell_type": "markdown",
   "metadata": {},
   "source": [
    "# Exercise 1 - Window functions - Questions"
   ]
  },
  {
   "cell_type": "markdown",
   "metadata": {},
   "source": [
    "<a id='task_Design_Non_Recursive_Filters'></a>\n",
    "<div class=\"alert alert-block alert-success\">\n",
    "<strong>Intended Learning Objectives (ILOs)</strong><br>\n",
    "    \n",
    "After completing this Jupyter Notebook you should be able to:\n",
    "    \n",
    "<ul>\n",
    "<li>create and visualise window functions in time-domain and frequency-domain using Discrete Fourier Transform (DFT)\n",
    "</li>\n",
    "    <br>\n",
    "    \n",
    "<li>identify the normalised frequency response depending on the specific windowing technique \n",
    "</li>\n",
    "    <br>\n",
    "    \n",
    "<li>gain a better understanding of the differences among DFTs of window functions\n",
    "</li>\n",
    "    <br>\n",
    "    \n",
    "<li>demonstrate the effects of different values of the parameters in <code>Kaiser</code> window\n",
    "</li>\n",
    "    <br>\n",
    " <li>understand basic use of functions from the <code>Python</code> libraries\n",
    "<ul>\n",
    "<li><a href=\"https://matplotlib.org/\"><code>Matplotlib</code></a> for graphical output (like\n",
    "<a href=\"https://matplotlib.org/3.1.1/api/_as_gen/matplotlib.pyplot.title.html\"><code>title()</code></a>,\n",
    "<a href=\"https://matplotlib.org/stable/api/_as_gen/matplotlib.pyplot.xlabel.html\"><code>xlabel()</code></a>,\n",
    "<a href=\"https://matplotlib.org/stable/api/_as_gen/matplotlib.pyplot.ylabel.html\"><code>ylabel()</code></a>,\n",
    "etc.)\n",
    "</li>\n",
    "<li><a href=\"https://numpy.org/\"><code>Numpy</code></a> for mathematical functions and calculations like\n",
    "<a href=\"https://numpy.org/doc/stable/reference/generated/numpy.log10.html\"><code>log10()</code></a>,\n",
    "<a href=\"https://numpy.org/doc/stable/reference/generated/numpy.linspace.html\"><code>linspace()</code></a>,\n",
    "<a href=\"https://numpy.org/doc/stable/reference/generated/numpy.absolute.html\"><code>abs()</code></a>, etc.\n",
    "</li>\n",
    "<li>Mostly used library for signal processing\n",
    "<a href=\"https://docs.scipy.org/doc/scipy/reference/signal.html\"><code>SciPy</code></a>\n",
    "</li>\n",
    "</ul>\n",
    "</li>  \n",
    "\n",
    "</ul>\n",
    "</div>"
   ]
  },
  {
   "cell_type": "markdown",
   "metadata": {},
   "source": [
    "In contrast to a recursive filter, whose design is based on the transformation of continuous-time IIR systems to discrete-time IIR systems, the design of non recursive (FIR) systems is based on the approximation of the desired frequency response of the discrete time system. Based on a constant group delay, mostly linear phase filters are applied, whose design is treated in the following text. FIR systems with linear phase are based on a windowing with ideal low-pass-filters. To keep the linear phase constraint the window functions have to be symmetric.\n",
    "\n",
    "General window function is defined as:"
   ]
  },
  {
   "cell_type": "markdown",
   "metadata": {},
   "source": [
    "\\begin{equation} \\tag{1.1}\n",
    "\\label{gwfunction}\n",
    "w \\left[k \\right]= \\left \\{\n",
    "\\begin{array}{ll}\n",
    " a - b \\cdot \\cos \\left(\\frac{2\\pi}{m} k \\right) + c \\cdot  \\cos \\left(\\frac{4\\pi}{m} k \\right) & \\hbox{for}\\  0 \\leq k \\leq  m \\\\\n",
    " 0  & \\hbox{else;}\n",
    "\\end{array}\n",
    "\\right.\n",
    "\\end{equation}"
   ]
  },
  {
   "cell_type": "markdown",
   "metadata": {},
   "source": [
    "\n",
    "### <center>Window Functions</center> \n",
    "\n",
    "\n",
    " \n",
    "\n",
    "| Windowing Technique \t            | SciPy Python function \t| a    \t        | b    \t      | c    \t    |\n",
    "|:-------------------------------:\t|:-----------------------:\t|:-----:\t    |:------:\t  |:------:\t    |\n",
    "| Rectangular         \t            | boxcar()              \t| 1.0  \t        | 0.0  \t      | 0.0  \t    | \n",
    "| von Hann            \t            | hann()                \t| 0.5  \t        | 0.5  \t      | 0.0  \t    |\n",
    "| Hamming                         \t| hamming()             \t| 0.54          | 0.46 \t      | 0.0  \t    |\n",
    "| Blackman            \t            | blackman()            \t| 0.42 \t        | 0.5  \t      | 0.08 \t    |"
   ]
  },
  {
   "cell_type": "markdown",
   "metadata": {},
   "source": [
    "On the other hand, another window function which is <code>Kaiser</code> window is one of the window functions used for analysis of spectrum and designing finite impulse response (FIR) filter design. It's a very flexible window function. It's given by\n",
    "\n",
    "\\begin{equation}\\label{eq:GL5_3_41} \\tag{1.2} %Kaiser window\n",
    "w^\\mathrm{K}[k] = \\frac{I_0\\bigg ( \\beta  \\sqrt{1-(1-\\frac{2}{m}k)^2}\\bigg )}{I_0(\\beta )}\n",
    "\\cdot w^\\mathrm{R}[k]\n",
    "\\end{equation}\n",
    "<br><br>\n",
    "where $w^\\mathrm{R}[k]$ is rectangular (boxcar) window function.\n",
    "<br><br>\n",
    "\n",
    "Unlike other windowing functions,<code>Kaiser</code> windowing function uses the parameter $\\beta$  and $I_0$ as shown in the (\\ref{eq:GL5_3_41}). \n",
    "$\\beta$ generally takes values from 4 to 9 and costant. The function $I_0$ is $0$ th order modified Bessel function."
   ]
  },
  {
   "cell_type": "markdown",
   "metadata": {},
   "source": [
    "In this notebook, window functions needs to be shown in the time-domain and frequency domain respectively. Filter order $m$ will be illustrated as a discrete-time index $k$.  \n",
    "\n",
    "It's necessary to use Fourier Transform (FT) in order to visualise frequency-domain of the window functions. In this notebook, Fast Fourier Transform (FFT) will be implemented to calculate the frequency response efficiently. Fourier Transform (FT) is defined as:\n",
    "\n",
    "\\begin{equation} \\tag{1.3}\n",
    "\\hbox{FT}\\{x(t)\\} = x(j\\omega) =  \\int\\limits\n",
    "^{\\infty }_{-\\infty } x(t)\\, e^{-j\\omega t} dt \\\n",
    "\\end{equation}\n",
    "\n",
    "It's highly recommended to make use of SciPy Signal Processing library since it has very rich content and a lot of window functions. Firstly, it's required to import <code>scipy.signal</code> library which is described in the code below. Then, filter order $m$ must be initialised to be used in the function <code>sig.windows.boxcar(Lw)</code>. After that, Fast Fourier Transform (FFT) will be implemented to calculate frequency response of the window function. It can be calculated using the functions<code>fft</code> and <code>fftshift</code>. Finally, time-domain and frequency-domain of the window functions will be plotted respectively in the same notebook cell.  \n"
   ]
  },
  {
   "cell_type": "markdown",
   "metadata": {},
   "source": [
    "<a id=\"task_function_generator_sine\"></a>\n",
    "<div class=\"alert alert-block alert-info\">\n",
    "    <strong><h3> Task 1: Show the graph of the window functions and their frequency responses.</h3></strong><br>\n",
    "   <br>\n",
    "<ul>\n",
    "<li>\n",
    "  a) Plot the <code>rectangular</code>,<code>hann</code>,<code>hamming</code>,<code>blackman</code> and <code>bartlett</code> windows for $m=42$ and their Fourier transforms for $m=21$ and $m=42$ \n",
    "</li>\n",
    "    <br>\n",
    "    \n",
    "<li>\n",
    "    b) Plot the <code>kaiser</code> window and its Fourier transform for $m=21$ and $\\beta = 0,3,6$\n",
    "</li>\n",
    "    \n",
    "\n",
    "</ul>\n",
    "</div>\n"
   ]
  },
  {
   "cell_type": "code",
   "execution_count": 3,
   "metadata": {},
   "outputs": [],
   "source": [
    "#necessary libraries are added\n",
    "import scipy.signal as sig                  #signal processing library\n",
    "import numpy as np                          #math library\n",
    "from scipy.fft import fft, fftshift, ifft   #fast fourier transform library\n",
    "import matplotlib.pyplot as plt             #plotting"
   ]
  },
  {
   "cell_type": "code",
   "execution_count": 5,
   "metadata": {},
   "outputs": [
    {
     "data": {
      "text/plain": [
       "'\\n\\nA = fft(..., ...) / (....)             #FFT of the time-domain\\nfreq = np.linspace(..., ..., ...)      #Frequency is normalised to [-1.0,1.0] in a continuous form\\nresponse = 20 * np.log10(...)          #Response is calculated \\n\\n\\n'"
      ]
     },
     "execution_count": 5,
     "metadata": {},
     "output_type": "execute_result"
    }
   ],
   "source": [
    "#INITIALISATION\n",
    "\n",
    "'''\n",
    "order = 42                             #m coefficient            \n",
    "Lw = order + 1                         #(m + 1)th order\n",
    "window = sig.windows.boxcar(Lw)        #rectangular window\n",
    "\n",
    "'''\n",
    "\n",
    "#FFT PART\n",
    "\n",
    "'''\n",
    "\n",
    "A = fft(..., ...) / (....)             #FFT of the time-domain\n",
    "freq = np.linspace(..., ..., ...)      #Frequency is normalised to [-1.0,1.0] in a continuous form\n",
    "response = 20 * np.log10(...)          #Response is calculated \n",
    "\n",
    "\n",
    "'''"
   ]
  },
  {
   "cell_type": "code",
   "execution_count": null,
   "metadata": {},
   "outputs": [],
   "source": []
  }
 ],
 "metadata": {
  "celltoolbar": "Raw Cell Format",
  "kernelspec": {
   "display_name": "Python 3",
   "language": "python",
   "name": "python3"
  },
  "language_info": {
   "codemirror_mode": {
    "name": "ipython",
    "version": 3
   },
   "file_extension": ".py",
   "mimetype": "text/x-python",
   "name": "python",
   "nbconvert_exporter": "python",
   "pygments_lexer": "ipython3",
   "version": "3.8.3"
  }
 },
 "nbformat": 4,
 "nbformat_minor": 4
}
