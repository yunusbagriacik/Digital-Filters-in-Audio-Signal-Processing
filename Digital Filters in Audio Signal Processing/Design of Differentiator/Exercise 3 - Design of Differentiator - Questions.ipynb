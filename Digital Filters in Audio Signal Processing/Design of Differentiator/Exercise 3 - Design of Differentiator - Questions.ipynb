{
 "cells": [
  {
   "cell_type": "markdown",
   "metadata": {},
   "source": [
    "# Exercise 3 - Design of Differentiator - Questions"
   ]
  },
  {
   "cell_type": "markdown",
   "metadata": {},
   "source": [
    "<a id='task_Design_Non_Recursive_Filters'></a>\n",
    "<div class=\"alert alert-block alert-success\">\n",
    "<strong>Intended Learning Objectives (ILOs)</strong><br>\n",
    "    \n",
    "After completing this Jupyter Notebook you should be able to:\n",
    "    \n",
    "<ul>\n",
    "<li>identify which differentiator refers to which class of FIR filters  \n",
    "</li>\n",
    "    <br>\n",
    "    \n",
    "<li>visualise absolute values of differentiator transfer function and impulse response.\n",
    "</li>\n",
    "    <br>\n",
    "    \n",
    "<li>gain a better understanding of what the differentiator is used for\n",
    "</li>\n",
    "    <br>\n",
    "    \n",
    "<li>demonstrate the effects of the filter order looking at both transfer function and impulse response.\n",
    "</li><br>\n",
    "  <li>understand basic use of functions from the <code>Python</code> libraries\n",
    "<ul>\n",
    "<li><a href=\"https://matplotlib.org/\"><code>Matplotlib</code></a> for graphical output (like\n",
    "<a href=\"https://matplotlib.org/3.1.1/api/_as_gen/matplotlib.pyplot.title.html\"><code>title()</code></a>,\n",
    "<a href=\"https://matplotlib.org/stable/api/_as_gen/matplotlib.pyplot.xlabel.html\"><code>xlabel()</code></a>,\n",
    "<a href=\"https://matplotlib.org/stable/api/_as_gen/matplotlib.pyplot.ylabel.html\"><code>ylabel()</code></a>,\n",
    "etc.)\n",
    "</li>\n",
    "<li><a href=\"https://numpy.org/\"><code>Numpy</code></a> for mathematical functions and calculations like\n",
    "<a href=\"https://numpy.org/doc/stable/reference/generated/numpy.absolute.html\"><code>abs()</code></a>,\n",
    "<a href=\"https://numpy.org/doc/stable/reference/generated/numpy.array.html\"><code>array()</code></a>,\n",
    "<a href=\"https://numpy.org/doc/stable/reference/constants.html\"><code>pi</code></a>, etc.\n",
    "</li>\n",
    "<li>Mostly used library for signal processing\n",
    "<a href=\"https://docs.scipy.org/doc/scipy/reference/signal.html\"><code>SciPy</code></a>\n",
    "</li>\n",
    "</ul>\n",
    "</li>  \n",
    "\n",
    "</ul>\n",
    "</div>"
   ]
  },
  {
   "cell_type": "markdown",
   "metadata": {},
   "source": [
    "The differentiation in time domain is equivalent to a multiplication with $j\\Omega$ in frequency domain. The transfer function of an ideal differentiator is defined as:\n",
    "\n",
    "\\begin{equation}\\label{GL5_4_4}\\tag{3.1}\n",
    "H\\left(e^{j\\Omega}\\right) = j\\Omega\n",
    "\\end{equation}\n",
    "\n",
    "within the interval $[0, \\pi]$"
   ]
  },
  {
   "cell_type": "markdown",
   "metadata": {},
   "source": [
    "So, Ideal frequency response of the differentiator filter is given by"
   ]
  },
  {
   "cell_type": "markdown",
   "metadata": {},
   "source": [
    "\\begin{equation}\\label{GL5_4_5}\\tag{3.2}\n",
    "H_{D}\\left(j\\omega\\right) = \\left \\{\n",
    "\\begin{array}{ll}\n",
    "j \\omega &\\hbox{for} \\  -\\omega _A/2 \\leq \\omega \\leq \\omega _A/2 \\\\\n",
    "0 & \\hbox{else}\n",
    "\\end{array}\n",
    "\\right.\n",
    "\\end{equation}"
   ]
  },
  {
   "cell_type": "markdown",
   "metadata": {},
   "source": [
    "<a id=\"task_function_generator_sine\"></a>\n",
    "<div class=\"alert alert-block alert-info\">\n",
    "    <strong><h3>Task 1: Differentiator Design</h3></strong><br>\n",
    "   <br>\n",
    "<ul>\n",
    "<li>\n",
    "    a) Plot the absolute values of transfer function and impulse response of order $m = 21$ and $m = 22$. You can use <code>firl()</code> or <code>remez()</code> functions. Identify which differentiator refers to which class of FIR filters. <br>\n",
    "    <strong>HINT:</strong>  If you use remez, default parameter is <code>'type = bandpass'</code>  \n",
    "</li>\n",
    "    <br>\n",
    "    \n",
    "<li>\n",
    "    b) Plot the absolute values of transfer function and impulse response of order $m = 21$ and $m = 22$. You can use <code>remez()</code> functions with the parameter  <code>'type = differentiator'</code>. Identify which differentiator refers to which class of FIR filters.\n",
    "</li>\n",
    "    \n",
    "\n",
    "</ul>\n",
    "</div>"
   ]
  },
  {
   "cell_type": "code",
   "execution_count": 11,
   "metadata": {},
   "outputs": [],
   "source": [
    "#LIBRARIES\n",
    "\n",
    "import scipy.signal as sig              #signal processing library\n",
    "import numpy as np                      #numpy for math \n",
    "import matplotlib.pyplot as plt         #plotting   "
   ]
  },
  {
   "cell_type": "code",
   "execution_count": 12,
   "metadata": {},
   "outputs": [],
   "source": [
    "#INITIALISATON\n",
    "\n",
    "order = 22         #filter order m\n",
    "Lw = order + 1     #(m+1)th order for filter functions"
   ]
  },
  {
   "cell_type": "code",
   "execution_count": 14,
   "metadata": {},
   "outputs": [],
   "source": [
    "#f1 = ......     => band edges array\n",
    "#m1 = ......     => desired gain \n",
    "\n",
    "#f2 = ......     => band edges array\n",
    "#m2 = ......     => desired gain \n",
    "\n",
    "#b1 = sig.firls(numtaps, bands, desired,  weight=None, Hz=None, type='bandpass')       => firl function for differentiator\n",
    "#b2 = sig.firls(numtaps, bands, desired,  weight=None, Hz=None, type='differentiator') => firl function for differentiator"
   ]
  },
  {
   "cell_type": "code",
   "execution_count": null,
   "metadata": {},
   "outputs": [],
   "source": []
  }
 ],
 "metadata": {
  "kernelspec": {
   "display_name": "Python 3",
   "language": "python",
   "name": "python3"
  },
  "language_info": {
   "codemirror_mode": {
    "name": "ipython",
    "version": 3
   },
   "file_extension": ".py",
   "mimetype": "text/x-python",
   "name": "python",
   "nbconvert_exporter": "python",
   "pygments_lexer": "ipython3",
   "version": "3.8.3"
  }
 },
 "nbformat": 4,
 "nbformat_minor": 4
}
